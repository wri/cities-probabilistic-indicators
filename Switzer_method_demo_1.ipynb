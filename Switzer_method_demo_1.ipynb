{
 "cells": [
  {
   "cell_type": "markdown",
   "id": "354db528",
   "metadata": {},
   "source": [
    "# Switzer method demo\n",
    "This methodology has not completed WRI's review process and should not be used for any purpose.\n",
    "\n",
    "Direct questions to Ted Wong (ted.wong@wri.org).\n",
    "\n",
    "## Problem: How to estimate future probability distributions of climate-hazard indicators\n",
    "* Data source: climate simulations\n",
    "    * These are global rasters of CMIP6 simulations. Outputs include daily maxtemp, mintemp, precip, and humidity for every day in years 1950-2100.\n",
    "    * Downscale product is [NEX-GDDP-CMIP6](https://www.nccs.nasa.gov/services/data-collections/land-based-products/nex-gddp-cmip6). Resolution is 0.25 degrees, or approx. 25 km.\n",
    "* Additional data: satellite observations\n",
    "    * This is the [ERA5 reanalysis product](https://www.ecmwf.int/en/forecasts/datasets/reanalysis-datasets/era5), which provides similar variables and resolution for 1940-present.\n",
    "    * This dataset is not used in the proposed methodology below, but it is available if useful.\n",
    "    \n",
    "* Using the simulated variables, for any year we can calculate numerous climate-hazard indicators for any location. Example indicators:\n",
    "     * Number of days in a year with maxtemp > 35C\n",
    "     * Duration of longest uninterrupted dryspell in a year\n",
    "     * Number of degree-days between final frost and first frost in a year\n",
    "* For a given location and future year, we would like to estimate either...\n",
    "    * Probability distributions of indicator magnitudes\n",
    "    * or the probability that the indicator magnitude exceeds a given threshold\n",
    "* Considerations\n",
    "    * Ease of calculation\n",
    "        * Use cases include implementation a a web application for on-demand calculation, and precalculation of large-area rasters. We hope to use methods that lend themselves well to parallelization.\n",
    "        * We would like to be able to assess the quality of our probability estimates.\n",
    "\n",
    "## Proposed solution: Random sampling of Poisson rate parameters\n",
    "\n",
    "* Count exceedance events over a historical interval in both a model and an observation dataset. Also count future exceedance events in one of the climate models.\n",
    "* Assume counts are Poisson-distributed.\n",
    "* Using Jeffries prior, the posterior distribution of Poisson rate parameters is Gamma-distributed with shape parameter equal to the event count plus one-half.\n",
    "* Different models have biases. We'll use the historical observations and historical model data to calibrate each model's future event count. Define a calibration function as follows:\n",
    "    * Take 10,000 draws from the Gamma distribution using the count from the historical observation dataset as shape parameter. Call these gH_draws.\n",
    "    * Similar for the historical modeled data: 10,000 draws from Gamma($\\alpha$ = historical model count). Call these gHM_draws.\n",
    "    * Order gH_draws and gHM_draws by size.\n",
    "    * For j = 1...1000, let X(j,gH) and X(j,gHM) denote the j-th largest value of gH_draws and gHM_draws. Let n(j,gHM) denote the number of gHM sample values that are smaller than X(j,gH). Then the calibrated value of X(j,gHM) is X(n(j),gHM), for j = 1..1000.\n",
    "    * This defines a mapping from j --> n(j). This mapping is the calibration function.\n",
    "* Apply the calibration function to gFM_draws to get calibrated gFM_draws, or cgFM_draws. This is the calibrated distribution of Poisson rate parameters.\n",
    "* Uniformly draw 1000 Poisson parameters from cgFM_draws. Use these 1000 drawn Poisson parameters to generate 1000 Poisson distributions. From each, draw one future exceedance event count.\n",
    "* Report the mean of the event-count distribution, and display the distribution.\n",
    "* Do all this for each model and report results separately. Maybe also report the mean value. (Or evaluate models by the distance between gH and gHM, and use only the best model.)\n",
    "\n",
    "\n"
   ]
  },
  {
   "cell_type": "markdown",
   "id": "2aa5dfa3",
   "metadata": {},
   "source": [
    "----------------------------------------------------\n",
    "\n",
    "# Demo implementation"
   ]
  },
  {
   "cell_type": "markdown",
   "id": "2c0a9c80",
   "metadata": {},
   "source": [
    "### Import libraries set authentication credentials, etc."
   ]
  },
  {
   "cell_type": "code",
   "execution_count": 2,
   "id": "5b94c8f4",
   "metadata": {
    "scrolled": false
   },
   "outputs": [
    {
     "data": {
      "text/html": [
       "<p>To authorize access needed by Earth Engine, open the following\n",
       "        URL in a web browser and follow the instructions:</p>\n",
       "        <p><a href=https://code.earthengine.google.com/client-auth?scopes=https%3A//www.googleapis.com/auth/earthengine%20https%3A//www.googleapis.com/auth/devstorage.full_control&request_id=pGplrpPxcjyxjXcxEl_nuN45rJu2BppsQb4IYapvMEg&tc=kOCBr_sZULhEHntFef2fuS1JFMyesPWCnEDksa9zSb0&cc=naTRnxAslhjznijYsSWfJOmVP-t7Ul5FnhsMxwExP2o>https://code.earthengine.google.com/client-auth?scopes=https%3A//www.googleapis.com/auth/earthengine%20https%3A//www.googleapis.com/auth/devstorage.full_control&request_id=pGplrpPxcjyxjXcxEl_nuN45rJu2BppsQb4IYapvMEg&tc=kOCBr_sZULhEHntFef2fuS1JFMyesPWCnEDksa9zSb0&cc=naTRnxAslhjznijYsSWfJOmVP-t7Ul5FnhsMxwExP2o</a></p>\n",
       "        <p>The authorization workflow will generate a code, which you\n",
       "        should paste in the box below</p>\n",
       "        "
      ],
      "text/plain": [
       "<IPython.core.display.HTML object>"
      ]
     },
     "metadata": {},
     "output_type": "display_data"
    },
    {
     "name": "stdout",
     "output_type": "stream",
     "text": [
      "Enter verification code: 4/1AVHEtk4oWUw7jXhVfd-OwCLV-NoZcvqlh0ZvJI87JGpd7mfUfMOz8EhfQXQ\n",
      "\n",
      "Successfully saved authorization token.\n"
     ]
    }
   ],
   "source": [
    "import ee\n",
    "%matplotlib inline\n",
    "import warnings\n",
    "warnings.filterwarnings('ignore')\n",
    "\n",
    "import matplotlib\n",
    "import matplotlib.pyplot as plt\n",
    "import numpy as np\n",
    "import pandas as pd\n",
    "import seaborn as sns\n",
    "from scipy import stats\n",
    "\n",
    "import datetime, calendar\n",
    "\n",
    "plt.style.use(\"seaborn-darkgrid\")\n",
    "\n",
    "ee.Authenticate()\n",
    "ee.Initialize()"
   ]
  },
  {
   "cell_type": "markdown",
   "id": "f9785f9a",
   "metadata": {},
   "source": [
    "--------------------------\n",
    "### Select CMIP6 models and define a location and future year of interest"
   ]
  },
  {
   "cell_type": "markdown",
   "id": "043a8e17",
   "metadata": {},
   "source": [
    "--------------------------------------\n",
    "### Define indicator of interest\n",
    "Indicator is **one or more consecutive runs (>= 5 days)  between Apr 15 and Sept 10 with min temp > 25C**"
   ]
  },
  {
   "cell_type": "code",
   "execution_count": 387,
   "id": "e1ec9be3",
   "metadata": {},
   "outputs": [],
   "source": [
    "indicators = {\n",
    "    'dtg34': {\n",
    "            'name': 'dtg34',\n",
    "            'greaterthan': True,\n",
    "            'nex_varname': 'tasmax',\n",
    "            'era5_varname': 'maximum_2m_air_temperature',\n",
    "            'range': [1, 365, 1],\n",
    "            'nex_multiply': 1,\n",
    "            'nex_add': -273.15,\n",
    "            'era5_multiply': 1,\n",
    "            'era5_add': -273.15,\n",
    "            'function': lambda windowdata: np.sum(windowdata >= 35, axis=0),\n",
    "            'prob_model': 'binomial'\n",
    "    },\n",
    "        'mintemp_gt_25_x5': {\n",
    "            'name': 'mintemp_gt_25_x5',\n",
    "            'greaterthan': True,\n",
    "            'nex_varname': 'tasmin',\n",
    "            'era5_varname': 'minimum_2m_air_temperature',\n",
    "            'range': [1, 365, 1],\n",
    "            'nex_multiply': 1,\n",
    "            'nex_add': -273.15,\n",
    "            'era5_multiply': 1,\n",
    "            'era5_add': -273.15,\n",
    "            'function': lambda windowdata: np.sum(np.diff(np.argwhere(np.logical_not(np.concatenate(([False], windowdata >= 25, [False])))).flatten())[np.argwhere(np.diff(np.argwhere(np.logical_not(np.concatenate(([False], windowdata >= 25, [False])))).flatten()) - 1 > 0).flatten()] - 1 > 5, axis=0),\n",
    "            'prob_model': 'poisson'\n",
    "    } \n",
    "}"
   ]
  },
  {
   "cell_type": "code",
   "execution_count": 335,
   "id": "85e49bf3",
   "metadata": {},
   "outputs": [],
   "source": [
    "LEAPLENGTH = {'UKESM1-0-LL': 360,\n",
    " 'NorESM2-MM': 365,\n",
    " 'NorESM2-LM': 365,\n",
    " 'MRI-ESM2-0': 366,\n",
    " 'MPI-ESM1-2-LR': 366,\n",
    " 'MPI-ESM1-2-HR': 366,\n",
    " 'MIROC6': 366,\n",
    " 'MIROC-ES2L': 366,\n",
    " 'KIOST-ESM': 365,\n",
    " 'KACE-1-0-G': 360,\n",
    " 'IPSL-CM6A-LR': 366,\n",
    " 'INM-CM5-0': 365,\n",
    " 'INM-CM4-8': 365,\n",
    " 'HadGEM3-GC31-MM': 360,\n",
    " 'HadGEM3-GC31-LL': 360,\n",
    " 'GFDL-ESM4': 365,\n",
    " 'GFDL-CM4_gr2': 365,\n",
    " 'GFDL-CM4': 365,\n",
    " 'FGOALS-g3': 365,\n",
    " 'EC-Earth3-Veg-LR': 366,\n",
    " 'EC-Earth3': 366,\n",
    " 'CanESM5': 365,\n",
    " 'CNRM-ESM2-1': 366,\n",
    " 'CNRM-CM6-1': 366,\n",
    " 'CMCC-ESM2': 365,\n",
    " 'CMCC-CM2-SR5': 365,\n",
    " 'BCC-CSM2-MR': 365,\n",
    " 'ACCESS-ESM1-5': 366,\n",
    " 'ACCESS-CM2': 366,\n",
    " 'TaiESM1': 365,\n",
    " 'ERA5': 366\n",
    "}\n",
    "\n",
    "EXCLUDED_MODELS = ['TaiESM1', 'GFDL-CM4_gr2','ERA5']    # TaiESM1 model has major known biases\n",
    "\n",
    "MODELS = [i for i in LEAPLENGTH.keys() if not i in EXCLUDED_MODELS]\n",
    "\n",
    "INITIAL_LATLON = (22.75, 87.82)  # near Kolkata\n",
    "INITIAL_WINDOW = ('04-15', '09-10')\n",
    "\n",
    "HIST_START = 1979\n",
    "HIST_END = 2015\n",
    "FUTURE_START = 2050\n",
    "FUTURE_END = 2070\n",
    "\n",
    "NUM_BEST_MODELS = 3"
   ]
  },
  {
   "cell_type": "code",
   "execution_count": 285,
   "id": "c35777c4",
   "metadata": {},
   "outputs": [],
   "source": [
    "def runlengths(tf_array):\n",
    "    extended_a = np.concatenate(([False], a, [False]))\n",
    "    nots = np.argwhere(np.logical_not(extended_a)).flatten()\n",
    "    diffs = np.diff(nots)\n",
    "    run_lengths = diffs[np.argwhere(diffs - 1 > 0).flatten()] - 1\n",
    "    return runlengths\n",
    "    # Same thing as a lambda function:\n",
    "    #np.diff(np.argwhere(np.logical_not(np.concatenate(([False], tf_array > 25, [False])))).flatten())[np.argwhere(np.diff(np.argwhere(np.logical_not(np.concatenate(([False], tf_array > 25, [False])))).flatten()) - 1 > 0).flatten()] - 1\n",
    "\n",
    "\n",
    "\n",
    "def get_mags(lat, lon, window, start_year, end_year, model, indicator, scenario='ssp585'):\n",
    "\n",
    "# Returns array of event counts, one for each year\n",
    "    \n",
    "    print('  {0} {1} - {2}'.format(model, start_year, end_year))\n",
    "    \n",
    "    def d2j(datestring):\n",
    "        d = datetime.date.fromisoformat(datestring)\n",
    "        jday = d.timetuple().tm_yday\n",
    "        if calendar.isleap(d.year) and jday > 59:\n",
    "            jday -= 1\n",
    "        return jday\n",
    "    \n",
    "    if model == 'ERA5':\n",
    "        varname = indicator['era5_varname']\n",
    "        is_forecast = varname == \"precipitation_amount_1hour_Accumulation\"\n",
    "        dataset = ee.ImageCollection(\"ECMWF/ERA5/DAILY\")\n",
    "        mult = indicator['era5_multiply']\n",
    "        add = indicator['era5_add']\n",
    "    else:\n",
    "        varname = indicator['nex_varname']\n",
    "        dataset = ee.ImageCollection('NASA/GDDP-CMIP6').filter(ee.Filter.eq('model', model))\n",
    "        mult = indicator['nex_multiply']\n",
    "        add = indicator['nex_add']\n",
    "    indicator_fxn = indicator['function']\n",
    "    gee_geom = ee.Geometry.Point((lon, lat))\n",
    "\n",
    "    allyears = []\n",
    "    for year in range(start_year, end_year):\n",
    "        window_start = datetime.datetime.strptime('{0}-{1}'.format(year, window[0]), '%Y-%m-%d')\n",
    "        window_end_plusone = datetime.datetime.strptime('{0}-{1}'.format(year, window[1]), '%Y-%m-%d') + datetime.timedelta(days=1) \n",
    "        data_vars = dataset.select(varname).filter(ee.Filter.date(window_start.strftime('%Y-01-01'), window_end_plusone.strftime('%Y-12-31')))\n",
    "        if model != 'ERA5':\n",
    "            data_vars = data_vars.filter(ee.Filter.eq('scenario', [scenario, 'historical'][int(year < 2015)]))\n",
    "        yeardata = pd.DataFrame(data_vars.getRegion(gee_geom, 25000, 'epsg:4326').getInfo())[4][1:]\n",
    "        yeardata = np.array(yeardata[d2j(window_start.strftime('%Y-%m-%d'))+1: d2j(window_end_plusone.strftime('%Y-%m-%d'))+1])\n",
    "        allyears.append(indicator_fxn((np.array(yeardata) * mult) + add))\n",
    "    return np.array(allyears)"
   ]
  },
  {
   "cell_type": "code",
   "execution_count": 330,
   "id": "96ae9a85",
   "metadata": {},
   "outputs": [],
   "source": [
    "def get_rmsd(d1, d2):\n",
    "    if d1.size != d2.size:\n",
    "        raise Exception(\"Comparing arrays of different length\")\n",
    "    interval_length = d1.size // 4\n",
    "    c1 = np.array([])\n",
    "    c2 = np.array([])\n",
    "    for i in range(4):\n",
    "        c1 = np.append(c1, sum(d1[i*4:(i+1)*4]))\n",
    "        c2 = np.append(c2, sum(d2[i*4:(i+1)*4]))\n",
    "    return np.sqrt(((c1 - c2)**2).sum() / d1.size)\n",
    "\n",
    "def calibration_function(hist_obs, hist_mod):\n",
    "    new_indices = []\n",
    "    source = np.sort(hist_obs)\n",
    "    target= np.sort(hist_mod)\n",
    "    source[-1] = target[-1]  # when target[i] greater than all source values, return max index\n",
    "    for target_idx, target_value in enumerate(target):\n",
    "        source_value = source[target_idx]\n",
    "        new_indices.append(np.argmax(target >= source_value))\n",
    "    return new_indices\n",
    "\n",
    "def gamma(count, size):\n",
    "    return np.random.gamma(shape = count + 0.5, size=size)\n",
    "\n",
    "def beta(count, num, size):\n",
    "    return np.random.beta(a = count + 0.5, b = num - count + 0.5, size=size)"
   ]
  },
  {
   "cell_type": "markdown",
   "id": "cc7d7070",
   "metadata": {},
   "source": [
    "---------------------------------\n",
    "### Get historical data and select best models"
   ]
  },
  {
   "cell_type": "code",
   "execution_count": 388,
   "id": "f0fa9957",
   "metadata": {
    "scrolled": false
   },
   "outputs": [
    {
     "name": "stdout",
     "output_type": "stream",
     "text": [
      "Getting historical event counts\n",
      "ERA5 1979 - 2015\n",
      "UKESM1-0-LL 1979 - 2015\n",
      "NorESM2-MM 1979 - 2015\n",
      "NorESM2-LM 1979 - 2015\n",
      "MRI-ESM2-0 1979 - 2015\n",
      "MPI-ESM1-2-LR 1979 - 2015\n",
      "MPI-ESM1-2-HR 1979 - 2015\n",
      "MIROC6 1979 - 2015\n",
      "MIROC-ES2L 1979 - 2015\n",
      "KIOST-ESM 1979 - 2015\n",
      "KACE-1-0-G 1979 - 2015\n",
      "IPSL-CM6A-LR 1979 - 2015\n",
      "INM-CM5-0 1979 - 2015\n",
      "INM-CM4-8 1979 - 2015\n",
      "HadGEM3-GC31-MM 1979 - 2015\n",
      "HadGEM3-GC31-LL 1979 - 2015\n",
      "GFDL-ESM4 1979 - 2015\n",
      "GFDL-CM4 1979 - 2015\n",
      "FGOALS-g3 1979 - 2015\n",
      "EC-Earth3-Veg-LR 1979 - 2015\n",
      "EC-Earth3 1979 - 2015\n",
      "CanESM5 1979 - 2015\n",
      "CNRM-ESM2-1 1979 - 2015\n",
      "CNRM-CM6-1 1979 - 2015\n",
      "CMCC-ESM2 1979 - 2015\n",
      "CMCC-CM2-SR5 1979 - 2015\n",
      "BCC-CSM2-MR 1979 - 2015\n",
      "ACCESS-ESM1-5 1979 - 2015\n",
      "ACCESS-CM2 1979 - 2015\n",
      "Best models:\n",
      "  ACCESS-ESM1-5 (RMSD=0.7637626158259734)\n",
      "  HadGEM3-GC31-LL (RMSD=0.7993052538854533)\n",
      "  UKESM1-0-LL (RMSD=1.118033988749895)\n",
      "Worst model is CMCC-CM2-SR5 (RMSD=4.272001872658765)\n",
      "CPU times: total: 8.47 s\n",
      "Wall time: 4min 14s\n"
     ]
    }
   ],
   "source": [
    "%%time\n",
    "\n",
    "indicator = indicators['mintemp_gt_25_x5']\n",
    "test_threshold = 1\n",
    "\n",
    "print('Getting historical event counts')\n",
    "obs_counts = np.array(get_mags(INITIAL_LATLON[0], INITIAL_LATLON[1], INITIAL_WINDOW, HIST_START, HIST_END, 'ERA5', indicator))\n",
    "\n",
    "mod_counts = {}\n",
    "rmsd_to_models = {}\n",
    "models_to_rmsd = {}\n",
    "\n",
    "for model in MODELS:\n",
    "    mod_counts[model] = np.array(get_mags(INITIAL_LATLON[0], INITIAL_LATLON[1], INITIAL_WINDOW, HIST_START, HIST_END, model, indicator))\n",
    "    rmsd = get_rmsd(obs_counts, mod_counts[model])\n",
    "    rmsd_to_models[rmsd] = model\n",
    "    models_to_rmsd[model] = rmsd\n",
    "\n",
    "rmsd_vals = list(rmsd_to_models.keys())\n",
    "rmsd_vals.sort()\n",
    "best_models = [rmsd_to_models[i] for i in rmsd_vals[:NUM_BEST_MODELS]]\n",
    "print('Best models:')\n",
    "for model in best_models:\n",
    "    print('  {0} (RMSD={1})'.format(model, models_to_rmsd[model]))\n",
    "print('Worst model is {0} (RMSD={1})'.format(rmsd_to_models[rmsd_vals[-1]], rmsd_vals[-1]))"
   ]
  },
  {
   "cell_type": "markdown",
   "id": "f4dd02ea",
   "metadata": {},
   "source": [
    "-------------------------------\n",
    "### Get samples from posterior distributions and calibrate future samples"
   ]
  },
  {
   "cell_type": "code",
   "execution_count": 389,
   "id": "4b841252",
   "metadata": {
    "scrolled": true
   },
   "outputs": [
    {
     "name": "stdout",
     "output_type": "stream",
     "text": [
      "Processing ACCESS-ESM1-5\n",
      "ACCESS-ESM1-5 2050 - 2070\n",
      "Processing HadGEM3-GC31-LL\n",
      "HadGEM3-GC31-LL 2050 - 2070\n",
      "Processing UKESM1-0-LL\n",
      "UKESM1-0-LL 2050 - 2070\n",
      "CPU times: total: 875 ms\n",
      "Wall time: 18.8 s\n"
     ]
    },
    {
     "data": {
      "image/png": "[encoded data removed]",
      "text/plain": [
       "<Figure size 432x288 with 1 Axes>"
      ]
     },
     "metadata": {},
     "output_type": "display_data"
    }
   ],
   "source": [
    "%%time\n",
    "\n",
    "cposteriorFM_draws = {}\n",
    "for model in best_models[:3]:\n",
    "    print('Processing {0}'.format(model))\n",
    "    fmod = get_mags(INITIAL_LATLON[0], INITIAL_LATLON[1], INITIAL_WINDOW, FUTURE_START, FUTURE_END, model, indicator)\n",
    "    if indicator['prob_model'] == 'poisson':\n",
    "        \n",
    "        posteriorH_draws = gamma(obs_counts.sum(), 10000)\n",
    "        posteriorHM_draws = gamma(mod_counts[model].sum(), 10000)\n",
    "        posteriorFM_draws = gamma(fmod.sum(), 10000)\n",
    "    else:\n",
    "        \n",
    "        fmod = fmod >= TEST_THRESHOLD\n",
    "        hobs = obs_counts >= TEST_THRESHOLD\n",
    "        hmod = mod_counts[model] >= TEST_THRESHOLD\n",
    "        \n",
    "        posteriorH_draws = beta(hobs.sum(), hobs.size, 10000)\n",
    "        posteriorHM_draws = beta(hmod.sum(), hmod.size, 10000)\n",
    "        posteriorFM_draws = beta(fmod.sum(), fmod.size, 10000)\n",
    "    cf = calibration_function(posteriorH_draws, posteriorHM_draws)\n",
    "    plt.plot(list(range(10000)), cf, label=model)\n",
    "    plt.xlabel('original index')\n",
    "    plt.ylabel('calibrated index')\n",
    "    plt.legend()\n",
    "    cposteriorFM_draws[model] = posteriorFM_draws[cf]"
   ]
  },
  {
   "cell_type": "markdown",
   "id": "f2b22a8b",
   "metadata": {},
   "source": [
    "-----------------------------\n",
    "### Draw binomial (Poisson) rates from the calibrated beta (gamma) draws, and draw from resulting binomial (Poisson) distributions\n",
    "\n",
    "Visualize the resulting distribution of future event counts"
   ]
  },
  {
   "cell_type": "code",
   "execution_count": 390,
   "id": "64420ffd",
   "metadata": {},
   "outputs": [
    {
     "name": "stdout",
     "output_type": "stream",
     "text": [
      "MEAN EVENT COUNT\n",
      "  1.3 (ACCESS-ESM1-5)\n",
      "  Probability that event count exceeds 1: 86.04%\n",
      "  1.4 (HadGEM3-GC31-LL)\n",
      "  Probability that event count exceeds 1: 91.72%\n",
      "  1.2 (UKESM1-0-LL)\n",
      "  Probability that event count exceeds 1: 84.61%\n"
     ]
    },
    {
     "data": {
      "image/png": "[encoded data removed]",
      "text/plain": [
       "<Figure size 432x288 with 1 Axes>"
      ]
     },
     "metadata": {},
     "output_type": "display_data"
    },
    {
     "name": "stdout",
     "output_type": "stream",
     "text": [
      "CPU times: total: 203 ms\n",
      "Wall time: 237 ms\n"
     ]
    }
   ],
   "source": [
    "%%time\n",
    "\n",
    "displaynums = {}\n",
    "event_distribs = {}\n",
    "for model in best_models:\n",
    "    uniform_draws = np.random.randint(low=0, high=10000, size=1000)\n",
    "    if indicator['prob_model'] == 'poisson':\n",
    "        cFM_draws = np.random.poisson(lam=cposteriorFM_draws[model][uniform_draws], size=1000) / fmod.size\n",
    "        displaynums[model] = cFM_draws.mean()\n",
    "        event_distribs[model] = cFM_draws\n",
    "    else:\n",
    "        cFM_draws = np.random.binomial(n=fmod.size, p=cposteriorFM_draws[model][uniform_draws], size=1000) / fmod.size\n",
    "        displaynums[model] = cFM_draws.mean()\n",
    "        event_distribs[model] = cFM_draws\n",
    "if indicator['prob_model'] == 'poisson':\n",
    "    print('MEAN EVENT COUNT')\n",
    "    for model in best_models:\n",
    "        print('  {0:.1f} ({1})'.format(displaynums[model], model))\n",
    "        d = event_distribs[model]\n",
    "        d.sort()\n",
    "        prob_numer = np.trapz(d[np.argmax(d >= test_threshold):])\n",
    "        prob_denom = np.trapz(event_distribs[model])\n",
    "        print('  Probability that event count exceeds {0}: {1:.2f}%'.format(test_threshold, prob_numer/prob_denom * 100))\n",
    "else:\n",
    "    print('EVENT PROBABILITIES')\n",
    "    for model in best_models:\n",
    "        print('  {0:.2f}% ({1})'.format(displaynums[model] * 100, model))\n",
    "fig, ax = plt.subplots()\n",
    "ax.boxplot(event_distribs.values())\n",
    "ax.set_xticklabels(best_models, rotation=45, fontsize=12)\n",
    "plt.show()"
   ]
  },
  {
   "cell_type": "markdown",
   "id": "1e351b04",
   "metadata": {},
   "source": [
    "-----------------------------------------\n",
    "## Same as above, but with an indicator requiring a binomial model\n",
    "\n",
    "Indicator is **100 or more days between Apr 15 and Sept 10 with max temp >= 35C**"
   ]
  },
  {
   "cell_type": "code",
   "execution_count": 383,
   "id": "ad4ce6a3",
   "metadata": {
    "scrolled": false
   },
   "outputs": [
    {
     "name": "stdout",
     "output_type": "stream",
     "text": [
      "Getting historical event counts\n",
      "ERA5 1979 - 2015\n",
      "UKESM1-0-LL 1979 - 2015\n",
      "NorESM2-MM 1979 - 2015\n",
      "NorESM2-LM 1979 - 2015\n",
      "MRI-ESM2-0 1979 - 2015\n",
      "MPI-ESM1-2-LR 1979 - 2015\n",
      "MPI-ESM1-2-HR 1979 - 2015\n",
      "MIROC6 1979 - 2015\n",
      "MIROC-ES2L 1979 - 2015\n",
      "KIOST-ESM 1979 - 2015\n",
      "KACE-1-0-G 1979 - 2015\n",
      "IPSL-CM6A-LR 1979 - 2015\n",
      "INM-CM5-0 1979 - 2015\n",
      "INM-CM4-8 1979 - 2015\n",
      "HadGEM3-GC31-MM 1979 - 2015\n",
      "HadGEM3-GC31-LL 1979 - 2015\n",
      "GFDL-ESM4 1979 - 2015\n",
      "GFDL-CM4 1979 - 2015\n",
      "FGOALS-g3 1979 - 2015\n",
      "EC-Earth3-Veg-LR 1979 - 2015\n",
      "EC-Earth3 1979 - 2015\n",
      "CanESM5 1979 - 2015\n",
      "CNRM-ESM2-1 1979 - 2015\n",
      "CNRM-CM6-1 1979 - 2015\n",
      "CMCC-ESM2 1979 - 2015\n",
      "CMCC-CM2-SR5 1979 - 2015\n",
      "BCC-CSM2-MR 1979 - 2015\n",
      "ACCESS-ESM1-5 1979 - 2015\n",
      "ACCESS-CM2 1979 - 2015\n",
      "Best models:\n",
      "  FGOALS-g3 (RMSD=13.439163333746306)\n",
      "  INM-CM4-8 (RMSD=14.269236528669328)\n",
      "  CanESM5 (RMSD=15.999131920895653)\n",
      "Worst model is EC-Earth3 (RMSD=34.832137140545626)\n",
      "Processing FGOALS-g3\n",
      "FGOALS-g3 2050 - 2070\n",
      "Processing INM-CM4-8\n",
      "INM-CM4-8 2050 - 2070\n",
      "Processing CanESM5\n",
      "CanESM5 2050 - 2070\n",
      "EVENT PROBABILITIES\n",
      "  97.92% (FGOALS-g3)\n",
      "  97.85% (INM-CM4-8)\n",
      "  97.37% (CanESM5)\n"
     ]
    },
    {
     "data": {
      "image/png": "[encoded data removed]",
      "text/plain": [
       "<Figure size 432x288 with 1 Axes>"
      ]
     },
     "metadata": {},
     "output_type": "display_data"
    },
    {
     "data": {
      "image/png": "[encoded data removed]",
      "text/plain": [
       "<Figure size 432x288 with 1 Axes>"
      ]
     },
     "metadata": {},
     "output_type": "display_data"
    },
    {
     "name": "stdout",
     "output_type": "stream",
     "text": [
      "CPU times: total: 10.5 s\n",
      "Wall time: 5min 8s\n"
     ]
    }
   ],
   "source": [
    "%%time\n",
    "\n",
    "indicator = indicators['dtg34']\n",
    "test_threshold = 100\n",
    "\n",
    "print('Getting historical event counts')\n",
    "obs_counts = np.array(get_mags(INITIAL_LATLON[0], INITIAL_LATLON[1], INITIAL_WINDOW, HIST_START, HIST_END, 'ERA5', indicator))\n",
    "\n",
    "mod_counts = {}\n",
    "rmsd_to_models = {}\n",
    "models_to_rmsd = {}\n",
    "\n",
    "for model in MODELS:\n",
    "    mod_counts[model] = np.array(get_mags(INITIAL_LATLON[0], INITIAL_LATLON[1], INITIAL_WINDOW, HIST_START, HIST_END, model, indicator))\n",
    "    rmsd = get_rmsd(obs_counts, mod_counts[model])\n",
    "    rmsd_to_models[rmsd] = model\n",
    "    models_to_rmsd[model] = rmsd\n",
    "\n",
    "rmsd_vals = list(rmsd_to_models.keys())\n",
    "rmsd_vals.sort()\n",
    "best_models = [rmsd_to_models[i] for i in rmsd_vals[:NUM_BEST_MODELS]]\n",
    "print('Best models:')\n",
    "for model in best_models:\n",
    "    print('  {0} (RMSD={1})'.format(model, models_to_rmsd[model]))\n",
    "print('Worst model is {0} (RMSD={1})'.format(rmsd_to_models[rmsd_vals[-1]], rmsd_vals[-1]))\n",
    "\n",
    "cposteriorFM_draws = {}\n",
    "displaynums = {}\n",
    "event_distribs = {}\n",
    "\n",
    "for model in best_models[:3]:\n",
    "    print('Processing {0}'.format(model))\n",
    "    fmod = get_mags(INITIAL_LATLON[0], INITIAL_LATLON[1], INITIAL_WINDOW, FUTURE_START, FUTURE_END, model, indicator)\n",
    "    if indicator['prob_model'] == 'poisson':\n",
    "        \n",
    "        posteriorH_draws = gamma(obs_counts.sum(), 10000)\n",
    "        posteriorHM_draws = gamma(mod_counts[model].sum(), 10000)\n",
    "        posteriorFM_draws = gamma(fmod.sum(), 10000)\n",
    "    else:\n",
    "        \n",
    "        fmod = fmod >= TEST_THRESHOLD\n",
    "        hobs = obs_counts >= TEST_THRESHOLD\n",
    "        hmod = mod_counts[model] >= TEST_THRESHOLD\n",
    "        \n",
    "        posteriorH_draws = beta(hobs.sum(), hobs.size, 10000)\n",
    "        posteriorHM_draws = beta(hmod.sum(), hmod.size, 10000)\n",
    "        posteriorFM_draws = beta(fmod.sum(), fmod.size, 10000)\n",
    "    cf = calibration_function(posteriorH_draws, posteriorHM_draws)\n",
    "    plt.plot(list(range(10000)), cf, label=model)\n",
    "    plt.xlabel('original index')\n",
    "    plt.ylabel('calibrated index')\n",
    "    plt.legend()\n",
    "    cposteriorFM_draws[model] = posteriorFM_draws[cf]\n",
    "    \n",
    "for model in best_models:\n",
    "    uniform_draws = np.random.randint(low=0, high=10000, size=1000)\n",
    "    if indicator['prob_model'] == 'poisson':\n",
    "        cFM_draws = np.random.poisson(lam=cposteriorFM_draws[model][uniform_draws], size=1000) / fmod.size\n",
    "        displaynums[model] = cFM_draws.mean()\n",
    "        event_distribs[model] = cFM_draws\n",
    "    else:\n",
    "        cFM_draws = np.random.binomial(n=fmod.size, p=cposteriorFM_draws[model][uniform_draws], size=1000) / fmod.size\n",
    "        displaynums[model] = cFM_draws.mean()\n",
    "        event_distribs[model] = cFM_draws\n",
    "if indicator['prob_model'] == 'poisson':\n",
    "    print('MEAN EVENT COUNT')\n",
    "    for model in best_models:\n",
    "        print('  {0:.1f} ({1})'.format(displaynums[model], model))\n",
    "        d = event_distribs[model]\n",
    "        d.sort()\n",
    "        prob_numer = np.trapz(d[np.argmax(d >= test_threshold):])\n",
    "        prob_denom = np.trapz(event_distribs[model])\n",
    "        print('  Probability that event count exceeds {0}: {1:.2f}%'.format(test_threshold, prob_numer/prob_denom * 100))\n",
    "else:\n",
    "    print('EVENT PROBABILITIES')\n",
    "    for model in best_models:\n",
    "        print('  {0:.2f}% ({1})'.format(displaynums[model] * 100, model))\n",
    "fig, ax = plt.subplots()\n",
    "ax.boxplot(event_distribs.values())\n",
    "ax.set_xticklabels(best_models, rotation=45, fontsize=12)\n",
    "plt.show()"
   ]
  },
  {
   "cell_type": "code",
   "execution_count": null,
   "id": "c8e50a15",
   "metadata": {},
   "outputs": [],
   "source": []
  }
 ],
 "metadata": {
  "kernelspec": {
   "display_name": "Python 3 (ipykernel)",
   "language": "python",
   "name": "python3"
  },
  "language_info": {
   "codemirror_mode": {
    "name": "ipython",
    "version": 3
   },
   "file_extension": ".py",
   "mimetype": "text/x-python",
   "name": "python",
   "nbconvert_exporter": "python",
   "pygments_lexer": "ipython3",
   "version": "3.9.10"
  }
 },
 "nbformat": 4,
 "nbformat_minor": 5
}
