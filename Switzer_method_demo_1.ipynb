{
 "cells": [
  {
   "attachments": {},
   "cell_type": "markdown",
   "id": "354db528",
   "metadata": {},
   "source": [
    "# Switzer method demo\n",
    "This methodology has not completed WRI's review process and should not be used for any purpose.\n",
    "\n",
    "Direct questions to Ted Wong (ted.wong@wri.org).\n",
    "\n",
    "## Problem: How to estimate future probability distributions of climate-hazard indicators\n",
    "* Data source: climate simulations\n",
    "    * These are global rasters of CMIP6 simulations. Outputs include daily maxtemp, mintemp, precip, and humidity for every day in years 1950-2100.\n",
    "    * Downscale product is [NEX-GDDP-CMIP6](https://www.nccs.nasa.gov/services/data-collections/land-based-products/nex-gddp-cmip6). Resolution is 0.25 degrees, or approx. 25 km.\n",
    "* Additional data: satellite observations\n",
    "    * This is the [ERA5 reanalysis product](https://www.ecmwf.int/en/forecasts/datasets/reanalysis-datasets/era5), which provides similar variables and resolution for 1940-present.\n",
    "    * This dataset is not used in the proposed methodology below, but it is available if useful.\n",
    "    \n",
    "* Using the simulated variables, for any year we can calculate numerous climate-hazard indicators for any location. Example indicators:\n",
    "     * Number of days in a year with maxtemp > 35C\n",
    "     * Duration of longest uninterrupted dryspell in a year\n",
    "     * Number of degree-days between final frost and first frost in a year\n",
    "* For a given location and future year, we would like to estimate either...\n",
    "    * Probability distributions of indicator magnitudes\n",
    "    * or the probability that the indicator magnitude exceeds a given threshold\n",
    "* Considerations\n",
    "    * Ease of calculation\n",
    "        * Use cases include implementation a a web application for on-demand calculation, and precalculation of large-area rasters. We hope to use methods that lend themselves well to parallelization.\n",
    "        * We would like to be able to assess the quality of our probability estimates.\n",
    "\n",
    "## Proposed solution: Random sampling of Poisson rate parameters\n",
    "\n",
    "* Count exceedance events over a historical interval in both a model and an observation dataset. Also count future exceedance events in one of the climate models.\n",
    "* Assume counts are Poisson-distributed.\n",
    "* Using Jeffries prior, the posterior distribution of Poisson rate parameters is Gamma-distributed with shape parameter equal to the event count plus one-half.\n",
    "* Different models have biases. We'll use the historical observations and historical model data to calibrate each model's future event count. Define a calibration function as follows:\n",
    "    * Take 10,000 draws from the Gamma distribution using the count from the historical observation dataset as shape parameter. Call these gH_draws.\n",
    "    * Similar for the historical modeled data: 10,000 draws from Gamma($\\alpha$ = historical model count). Call these gHM_draws.\n",
    "    * Order gH_draws and gHM_draws by size.\n",
    "    * For j = 1...1000, let X(j,gH) and X(j,gHM) denote the j-th largest value of gH_draws and gHM_draws. Let n(j,gHM) denote the number of gHM sample values that are smaller than X(j,gH). Then the calibrated value of X(j,gHM) is X(n(j),gHM), for j = 1..1000.\n",
    "    * This defines a mapping from j --> n(j). This mapping is the calibration function.\n",
    "* Apply the calibration function to gFM_draws to get calibrated gFM_draws, or cgFM_draws. This is the calibrated distribution of Poisson rate parameters.\n",
    "* Uniformly draw 1000 Poisson parameters from cgFM_draws. Use these 1000 drawn Poisson parameters to generate 1000 Poisson distributions. From each, draw one future exceedance event count.\n",
    "* Report the mean of the event-count distribution, and display the distribution.\n",
    "* Do all this for each model and report results separately. Maybe also report the mean value. (Or evaluate models by the distance between gH and gHM, and use only the best model.)\n",
    "\n",
    "\n"
   ]
  },
  {
   "cell_type": "markdown",
   "id": "2aa5dfa3",
   "metadata": {},
   "source": [
    "# Demo implementation"
   ]
  },
  {
   "cell_type": "markdown",
   "id": "2c0a9c80",
   "metadata": {},
   "source": [
    "### Import libraries set authentication credentials, etc."
   ]
  },
  {
   "cell_type": "code",
   "execution_count": 1,
   "id": "5b94c8f4",
   "metadata": {
    "scrolled": true
   },
   "outputs": [
    {
     "name": "stderr",
     "output_type": "stream",
     "text": [
      "WARNING (aesara.configdefaults): g++ not available, if using conda: `conda install m2w64-toolchain`\n",
      "WARNING (aesara.configdefaults): g++ not detected!  Aesara will be unable to compile C-implementations and will default to Python. Performance may be severely degraded. To remove this warning, set Aesara flags cxx to an empty string.\n",
      "WARNING (aesara.tensor.blas): Using NumPy C-API based implementation for BLAS functions.\n"
     ]
    },
    {
     "name": "stdout",
     "output_type": "stream",
     "text": [
      "WARN: Could not locate executable g77\n",
      "WARN: Could not locate executable f77\n",
      "WARN: Could not locate executable ifort\n",
      "WARN: Could not locate executable ifl\n",
      "WARN: Could not locate executable f90\n",
      "WARN: Could not locate executable DF\n",
      "WARN: Could not locate executable efl\n",
      "WARN: Could not locate executable gfortran\n",
      "WARN: Could not locate executable f95\n",
      "WARN: Could not locate executable g95\n",
      "WARN: Could not locate executable efort\n",
      "WARN: Could not locate executable efc\n",
      "WARN: Could not locate executable flang\n",
      "WARN: don't know how to compile Fortran code on platform 'nt'\n"
     ]
    },
    {
     "name": "stderr",
     "output_type": "stream",
     "text": [
      "WARNING (theano.configdefaults): g++ not available, if using conda: `conda install m2w64-toolchain`\n",
      "WARNING (theano.configdefaults): g++ not detected ! Theano will be unable to execute optimized C-implementations (for both CPU and GPU) and will default to Python implementations. Performance will be severely degraded. To remove this warning, set Theano flags cxx to an empty string.\n",
      "WARNING (theano.tensor.blas): Using NumPy C-API based implementation for BLAS functions.\n"
     ]
    },
    {
     "data": {
      "text/html": [
       "<p>To authorize access needed by Earth Engine, open the following\n",
       "        URL in a web browser and follow the instructions:</p>\n",
       "        <p><a href=https://code.earthengine.google.com/client-auth?scopes=https%3A//www.googleapis.com/auth/earthengine%20https%3A//www.googleapis.com/auth/devstorage.full_control&request_id=W82ZeJ0pHCO_3hunUE3SQbJIvKZXLOrQ5qOBDau-3jg&tc=Jt6GXIsYnyTdxYDGJil6uA-dNlxA_d395XZx-3YNckA&cc=e6eVkkmc7oIMSOptlmY0pGc2a1_OllwyP_QLBeVFNCw>https://code.earthengine.google.com/client-auth?scopes=https%3A//www.googleapis.com/auth/earthengine%20https%3A//www.googleapis.com/auth/devstorage.full_control&request_id=W82ZeJ0pHCO_3hunUE3SQbJIvKZXLOrQ5qOBDau-3jg&tc=Jt6GXIsYnyTdxYDGJil6uA-dNlxA_d395XZx-3YNckA&cc=e6eVkkmc7oIMSOptlmY0pGc2a1_OllwyP_QLBeVFNCw</a></p>\n",
       "        <p>The authorization workflow will generate a code, which you\n",
       "        should paste in the box below</p>\n",
       "        "
      ],
      "text/plain": [
       "<IPython.core.display.HTML object>"
      ]
     },
     "metadata": {},
     "output_type": "display_data"
    },
    {
     "name": "stdout",
     "output_type": "stream",
     "text": [
      "Enter verification code: 4/1AWtgzh6mdIeY_B3RJMltalZbwKBl49kOobBy36hUoLTC62Y9zd9gExA34ws\n",
      "\n",
      "Successfully saved authorization token.\n"
     ]
    }
   ],
   "source": [
    "import ee\n",
    "%matplotlib inline\n",
    "import warnings\n",
    "warnings.filterwarnings('ignore')\n",
    "\n",
    "import matplotlib\n",
    "import matplotlib.pyplot as plt\n",
    "import numpy as np\n",
    "import pandas as pd\n",
    "import seaborn as sns\n",
    "from scipy import stats\n",
    "\n",
    "import datetime, calendar\n",
    "\n",
    "plt.style.use(\"seaborn-darkgrid\")\n",
    "\n",
    "ee.Authenticate()\n",
    "ee.Initialize()"
   ]
  },
  {
   "cell_type": "markdown",
   "id": "f9785f9a",
   "metadata": {},
   "source": [
    "--------------------------\n",
    "### Select CMIP6 models and define a location and future year of interest"
   ]
  },
  {
   "cell_type": "code",
   "execution_count": 273,
   "id": "85e49bf3",
   "metadata": {},
   "outputs": [],
   "source": [
    "LEAPLENGTH = {'UKESM1-0-LL': 360,\n",
    " 'NorESM2-MM': 365,\n",
    " 'NorESM2-LM': 365,\n",
    " 'MRI-ESM2-0': 366,\n",
    " 'MPI-ESM1-2-LR': 366,\n",
    " 'MPI-ESM1-2-HR': 366,\n",
    " 'MIROC6': 366,\n",
    " 'MIROC-ES2L': 366,\n",
    " 'KIOST-ESM': 365,\n",
    " 'KACE-1-0-G': 360,\n",
    " 'IPSL-CM6A-LR': 366,\n",
    " 'INM-CM5-0': 365,\n",
    " 'INM-CM4-8': 365,\n",
    " 'HadGEM3-GC31-MM': 360,\n",
    " 'HadGEM3-GC31-LL': 360,\n",
    " 'GFDL-ESM4': 365,\n",
    " 'GFDL-CM4_gr2': 365,\n",
    " 'GFDL-CM4': 365,\n",
    " 'FGOALS-g3': 365,\n",
    " 'EC-Earth3-Veg-LR': 366,\n",
    " 'EC-Earth3': 366,\n",
    " 'CanESM5': 365,\n",
    " 'CNRM-ESM2-1': 366,\n",
    " 'CNRM-CM6-1': 366,\n",
    " 'CMCC-ESM2': 365,\n",
    " 'CMCC-CM2-SR5': 365,\n",
    " 'BCC-CSM2-MR': 365,\n",
    " 'ACCESS-ESM1-5': 366,\n",
    " 'ACCESS-CM2': 366,\n",
    " 'TaiESM1': 365,\n",
    " 'ERA5': 366\n",
    "}\n",
    "\n",
    "EXCLUDED_MODELS = ['TaiESM1', 'ERA5']    # TaiESM1 model has major known biases\n",
    "\n",
    "#MODELS = [i for i in LEAPLENGTH.keys() if not i in EXCLUDED_MODELS]\n",
    "MODELS = ['ACCESS-CM2']\n",
    "\n",
    "INITIAL_LATLON = (22.75, 87.82)\n",
    "INITIAL_WINDOW = ('04-15', '09-10')\n",
    "HIST_START = 1995\n",
    "HIST_END = 2015\n",
    "FUTURE_START = 2050\n",
    "FUTURE_END = 2070\n"
   ]
  },
  {
   "cell_type": "code",
   "execution_count": 274,
   "id": "8b85e9bd",
   "metadata": {},
   "outputs": [],
   "source": [
    "MODELS = ['ACCESS-CM2']"
   ]
  },
  {
   "cell_type": "markdown",
   "id": "043a8e17",
   "metadata": {},
   "source": [
    "--------------------------------------\n",
    "### Define indicator of interest\n",
    "This indicator counts the number of days within a given window in the year with maximum temperature >= 35C"
   ]
  },
  {
   "cell_type": "code",
   "execution_count": 239,
   "id": "e1ec9be3",
   "metadata": {},
   "outputs": [],
   "source": [
    "indicators = {\n",
    "    'dtg34': {\n",
    "            'name': 'dtg34',\n",
    "            'greaterthan': True,\n",
    "            'nex_varname': 'tasmax',\n",
    "            'era5_varname': 'maximum_2m_air_temperature',\n",
    "            'range': [1, 365, 1],\n",
    "            'nex_multiply': 1,\n",
    "            'nex_add': -273.15,\n",
    "            'era5_multiply': 1,\n",
    "            'era5_add': -273.15,\n",
    "            'function': lambda windowdata: np.sum(windowdata >= 35, axis=1)\n",
    "    } \n",
    "}\n",
    "\n",
    "\n",
    "def get_mags(lat, lon, window, start_year, end_year, model, indicator, scenario='ssp585'):\n",
    "\n",
    "# Returns array of event counts, one for each year\n",
    "    \n",
    "    def d2j(datestring):\n",
    "        d = datetime.date.fromisoformat(datestring)\n",
    "        jday = d.timetuple().tm_yday\n",
    "        if calendar.isleap(d.year) and jday > 59:\n",
    "            jday -= 1\n",
    "        return jday\n",
    "    \n",
    "    if model == 'ERA5':\n",
    "        varname = indicator['era5_varname']\n",
    "        is_forecast = varname == \"precipitation_amount_1hour_Accumulation\"\n",
    "        dataset = ee.ImageCollection(\"ECMWF/ERA5/DAILY\")\n",
    "        mult = indicator['era5_multiply']\n",
    "        add = indicator['era5_add']\n",
    "    else:\n",
    "        varname = indicator['nex_varname']\n",
    "        dataset = ee.ImageCollection('NASA/GDDP-CMIP6').filter(ee.Filter.eq('model', model))\n",
    "        mult = indicator['nex_multiply']\n",
    "        add = indicator['nex_add']\n",
    "    indicator_fxn = indicator['function']\n",
    "    gee_geom = ee.Geometry.Point((lon, lat))\n",
    "\n",
    "    allyears = []\n",
    "    for year in range(start_year, end_year):\n",
    "        window_start = datetime.datetime.strptime('{0}-{1}'.format(year, window[0]), '%Y-%m-%d')\n",
    "        window_end_plusone = datetime.datetime.strptime('{0}-{1}'.format(year, window[1]), '%Y-%m-%d') + datetime.timedelta(days=1) \n",
    "        data_vars = dataset.select(varname).filter(ee.Filter.date(window_start.strftime('%Y-01-01'), window_end_plusone.strftime('%Y-12-31')))\n",
    "        if model != 'ERA5':\n",
    "            data_vars = data_vars.filter(ee.Filter.eq('scenario', [scenario, 'historical'][int(year < 2015)]))\n",
    "        print('Collecting values {0} {1}'.format(model, year))\n",
    "        yeardata = pd.DataFrame(data_vars.getRegion(gee_geom, 25000, 'epsg:4326').getInfo())[4][1:]\n",
    "        allyears.append(yeardata[d2j(window_start.strftime('%Y-%m-%d'))+1: d2j(window_end_plusone.strftime('%Y-%m-%d'))+1])\n",
    "    return indicator_fxn((np.array(allyears) * mult) + add)"
   ]
  },
  {
   "cell_type": "markdown",
   "id": "8ef0da42",
   "metadata": {},
   "source": [
    "### Get exceedance event counts\n",
    "\n",
    "* _hobs_ is event count for historical years from observation dataset\n",
    "* _hmod_ is event count for historical years from model dataset\n",
    "* _fmod_ is event count for future years from model dataset"
   ]
  },
  {
   "cell_type": "code",
   "execution_count": 285,
   "id": "bb05d663",
   "metadata": {
    "scrolled": false
   },
   "outputs": [
    {
     "name": "stdout",
     "output_type": "stream",
     "text": [
      "Collecting values ERA5 1995\n",
      "Collecting values ERA5 1996\n",
      "Collecting values ERA5 1997\n",
      "Collecting values ERA5 1998\n",
      "Collecting values ERA5 1999\n",
      "Collecting values ERA5 2000\n",
      "Collecting values ERA5 2001\n",
      "Collecting values ERA5 2002\n",
      "Collecting values ERA5 2003\n",
      "Collecting values ERA5 2004\n",
      "Collecting values ERA5 2005\n",
      "Collecting values ERA5 2006\n",
      "Collecting values ERA5 2007\n",
      "Collecting values ERA5 2008\n",
      "Collecting values ERA5 2009\n",
      "Collecting values ERA5 2010\n",
      "Collecting values ERA5 2011\n",
      "Collecting values ERA5 2012\n",
      "Collecting values ERA5 2013\n",
      "Collecting values ERA5 2014\n",
      "Collecting values ACCESS-CM2 1995\n",
      "Collecting values ACCESS-CM2 1996\n",
      "Collecting values ACCESS-CM2 1997\n",
      "Collecting values ACCESS-CM2 1998\n",
      "Collecting values ACCESS-CM2 1999\n",
      "Collecting values ACCESS-CM2 2000\n",
      "Collecting values ACCESS-CM2 2001\n",
      "Collecting values ACCESS-CM2 2002\n",
      "Collecting values ACCESS-CM2 2003\n",
      "Collecting values ACCESS-CM2 2004\n",
      "Collecting values ACCESS-CM2 2005\n",
      "Collecting values ACCESS-CM2 2006\n",
      "Collecting values ACCESS-CM2 2007\n",
      "Collecting values ACCESS-CM2 2008\n",
      "Collecting values ACCESS-CM2 2009\n",
      "Collecting values ACCESS-CM2 2010\n",
      "Collecting values ACCESS-CM2 2011\n",
      "Collecting values ACCESS-CM2 2012\n",
      "Collecting values ACCESS-CM2 2013\n",
      "Collecting values ACCESS-CM2 2014\n",
      "Collecting values ACCESS-CM2 2050\n",
      "Collecting values ACCESS-CM2 2051\n",
      "Collecting values ACCESS-CM2 2052\n",
      "Collecting values ACCESS-CM2 2053\n",
      "Collecting values ACCESS-CM2 2054\n",
      "Collecting values ACCESS-CM2 2055\n",
      "Collecting values ACCESS-CM2 2056\n",
      "Collecting values ACCESS-CM2 2057\n",
      "Collecting values ACCESS-CM2 2058\n",
      "Collecting values ACCESS-CM2 2059\n",
      "Collecting values ACCESS-CM2 2060\n",
      "Collecting values ACCESS-CM2 2061\n",
      "Collecting values ACCESS-CM2 2062\n",
      "Collecting values ACCESS-CM2 2063\n",
      "Collecting values ACCESS-CM2 2064\n",
      "Collecting values ACCESS-CM2 2065\n",
      "Collecting values ACCESS-CM2 2066\n",
      "Collecting values ACCESS-CM2 2067\n",
      "Collecting values ACCESS-CM2 2068\n",
      "Collecting values ACCESS-CM2 2069\n"
     ]
    }
   ],
   "source": [
    "hobs = get_mags(INITIAL_LATLON[0], INITIAL_LATLON[1], INITIAL_WINDOW, HIST_START, HIST_END, 'ERA5', indicators['dtg34'])\n",
    "hmod = get_mags(INITIAL_LATLON[0], INITIAL_LATLON[1], INITIAL_WINDOW, HIST_START, HIST_END, MODELS[0], indicators['dtg34'])\n",
    "fmod = get_mags(INITIAL_LATLON[0], INITIAL_LATLON[1], INITIAL_WINDOW, FUTURE_START, FUTURE_END, MODELS[0], indicators['dtg34'])"
   ]
  },
  {
   "cell_type": "markdown",
   "id": "b31afd94",
   "metadata": {},
   "source": [
    "### Draw gamma-distributed Poisson rate parameters\n",
    "\n",
    "Each drawn from Gamma($\\alpha$ = event_count + half, $\\beta$ = 1)"
   ]
  },
  {
   "cell_type": "code",
   "execution_count": 276,
   "id": "2ad1518e",
   "metadata": {},
   "outputs": [],
   "source": [
    "gH_draws = np.random.gamma(shape=hobs.mean() + 0.5, size=10000)\n",
    "gHM_draws = np.random.gamma(shape=hmod.mean() + 0.5, size=10000)\n",
    "gFM_draws = np.random.gamma(shape=fmod.mean() + 0.5, size=10000)"
   ]
  },
  {
   "cell_type": "code",
   "execution_count": 286,
   "id": "b61cd32b",
   "metadata": {},
   "outputs": [
    {
     "data": {
      "image/png": "[encoded data removed]",
      "text/plain": [
       "<Figure size 432x288 with 1 Axes>"
      ]
     },
     "metadata": {},
     "output_type": "display_data"
    }
   ],
   "source": [
    "# This is a P-P plot of the Poisson parameters. The plot is not important for the calculation.\n",
    "\n",
    "plt.plot(np.sort(gH_draws), np.sort(gHM_draws))\n",
    "plt.xlabel('gH draws')\n",
    "plt.ylabel('gHM draws')\n",
    "plt.show()"
   ]
  },
  {
   "cell_type": "markdown",
   "id": "95908da8",
   "metadata": {},
   "source": [
    "### Define the calibration function\n",
    "\n",
    "It's the mapping from j to n(j) in the historical distributions as described above."
   ]
  },
  {
   "cell_type": "code",
   "execution_count": 292,
   "id": "7db273ce",
   "metadata": {},
   "outputs": [],
   "source": [
    "def calibration_function(hist_obs, hist_mod):\n",
    "    new_indices = []\n",
    "    source = np.sort(hist_obs)\n",
    "    target= np.sort(hist_mod)\n",
    "    source[-1] = target[-1]  # when target[i] greater than all source values, return max index\n",
    "    for target_idx, target_value in enumerate(target):\n",
    "        source_value = source[target_idx]\n",
    "        new_indices.append(np.argmax(target >= source_value))\n",
    "    return new_indices"
   ]
  },
  {
   "cell_type": "markdown",
   "id": "c15c6efe",
   "metadata": {},
   "source": [
    "Apply the calibration function to the future draws to get a distribution of calibrated future Poisson parameters."
   ]
  },
  {
   "cell_type": "code",
   "execution_count": 293,
   "id": "0da3564e",
   "metadata": {},
   "outputs": [],
   "source": [
    "cgFM_draws = gFM_draws[calibration_function(gH_draws, gHM_draws)]"
   ]
  },
  {
   "cell_type": "code",
   "execution_count": 294,
   "id": "a32365bd",
   "metadata": {},
   "outputs": [
    {
     "data": {
      "text/plain": [
       "{'whiskers': [<matplotlib.lines.Line2D at 0x1e0838a45b0>,\n",
       "  <matplotlib.lines.Line2D at 0x1e0838a4880>],\n",
       " 'caps': [<matplotlib.lines.Line2D at 0x1e0838a4b50>,\n",
       "  <matplotlib.lines.Line2D at 0x1e0838a4e20>],\n",
       " 'boxes': [<matplotlib.lines.Line2D at 0x1e0838a43d0>],\n",
       " 'medians': [<matplotlib.lines.Line2D at 0x1e0838b3130>],\n",
       " 'fliers': [<matplotlib.lines.Line2D at 0x1e0838b3400>],\n",
       " 'means': []}"
      ]
     },
     "execution_count": 294,
     "metadata": {},
     "output_type": "execute_result"
    },
    {
     "data": {
      "image/png": "[encoded data removed]",
      "text/plain": [
       "<Figure size 432x288 with 1 Axes>"
      ]
     },
     "metadata": {},
     "output_type": "display_data"
    }
   ],
   "source": [
    "# This is a boxplot of the calibrated Poisson parameters. The boxplot is not important for the calculation.\n",
    "\n",
    "plt.boxplot(cgFM_draws)"
   ]
  },
  {
   "cell_type": "markdown",
   "id": "764062e5",
   "metadata": {},
   "source": [
    "### Draw future event counts from Poisson distributions\n",
    "\n",
    "* Draw 1000 Poisson parameters from cgFM_draws\n",
    "* From each drawn parameter, generate a Poisson distribution\n",
    "* Draw one future event count from each Poisson distribution"
   ]
  },
  {
   "cell_type": "code",
   "execution_count": 295,
   "id": "34dda8e0",
   "metadata": {},
   "outputs": [],
   "source": [
    "uniform_draws = np.random.randint(low=0, high=10000, size=1000)\n",
    "cpFM_draws = np.random.poisson(lam=cgFM_draws[uniform_draws], size=1000)"
   ]
  },
  {
   "cell_type": "markdown",
   "id": "545395e8",
   "metadata": {},
   "source": [
    "### Visualize the distribution of future event counts"
   ]
  },
  {
   "cell_type": "code",
   "execution_count": 296,
   "id": "b3568975",
   "metadata": {},
   "outputs": [
    {
     "data": {
      "text/plain": [
       "{'whiskers': [<matplotlib.lines.Line2D at 0x1e0838d9760>,\n",
       "  <matplotlib.lines.Line2D at 0x1e0838d9a30>],\n",
       " 'caps': [<matplotlib.lines.Line2D at 0x1e0838d9d00>,\n",
       "  <matplotlib.lines.Line2D at 0x1e0838d9fd0>],\n",
       " 'boxes': [<matplotlib.lines.Line2D at 0x1e0838f9370>],\n",
       " 'medians': [<matplotlib.lines.Line2D at 0x1e08390a2e0>],\n",
       " 'fliers': [<matplotlib.lines.Line2D at 0x1e08390a5b0>],\n",
       " 'means': []}"
      ]
     },
     "execution_count": 296,
     "metadata": {},
     "output_type": "execute_result"
    },
    {
     "data": {
      "image/png": "[encoded data removed]",
      "text/plain": [
       "<Figure size 432x288 with 1 Axes>"
      ]
     },
     "metadata": {},
     "output_type": "display_data"
    }
   ],
   "source": [
    "plt.boxplot(cpFM_draws)"
   ]
  },
  {
   "cell_type": "code",
   "execution_count": 297,
   "id": "acf477b9",
   "metadata": {},
   "outputs": [
    {
     "data": {
      "text/plain": [
       "DescribeResult(nobs=1000, minmax=(74, 172), mean=121.831, variance=249.77621521521522, skewness=0.0499266002122842, kurtosis=0.04696408663398177)"
      ]
     },
     "execution_count": 297,
     "metadata": {},
     "output_type": "execute_result"
    }
   ],
   "source": [
    "stats.describe(cpFM_draws)"
   ]
  },
  {
   "cell_type": "code",
   "execution_count": null,
   "id": "52269912",
   "metadata": {},
   "outputs": [],
   "source": []
  }
 ],
 "metadata": {
  "kernelspec": {
   "display_name": "Python 3 (ipykernel)",
   "language": "python",
   "name": "python3"
  },
  "language_info": {
   "codemirror_mode": {
    "name": "ipython",
    "version": 3
   },
   "file_extension": ".py",
   "mimetype": "text/x-python",
   "name": "python",
   "nbconvert_exporter": "python",
   "pygments_lexer": "ipython3",
   "version": "3.9.10"
  }
 },
 "nbformat": 4,
 "nbformat_minor": 5
}
